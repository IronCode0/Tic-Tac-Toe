{
 "cells": [
  {
   "cell_type": "code",
   "execution_count": 1,
   "metadata": {},
   "outputs": [
    {
     "data": {
      "text/plain": [
       "['X', 'X', 'X', 'X', 'X', 'X', 'X', 'X', 'X', 'X']"
      ]
     },
     "execution_count": 1,
     "metadata": {},
     "output_type": "execute_result"
    }
   ],
   "source": [
    "test_board = [\"X\"]*10\n",
    "test_board"
   ]
  },
  {
   "cell_type": "code",
   "execution_count": 2,
   "metadata": {},
   "outputs": [],
   "source": [
    "def display(test_board):\n",
    "    print(test_board[7] + test_board[8] + test_board[9])\n",
    "    print(test_board[4] + test_board[5] + test_board[6])\n",
    "    print(test_board[1] + test_board[2] + test_board[3])"
   ]
  },
  {
   "cell_type": "code",
   "execution_count": 2,
   "metadata": {},
   "outputs": [
    {
     "data": {
      "text/plain": [
       "['', 'A', 'B', 'C', 'D', 'E', 'F', 'G', 'H', 'I']"
      ]
     },
     "metadata": {},
     "output_type": "display_data"
    }
   ],
   "source": [
    "test_board = [\"\",\"A\",\"B\",\"C\",\"D\",\"E\",\"F\",\"G\",\"H\",\"I\"]\n",
    "display(test_board)"
   ]
  },
  {
   "cell_type": "code",
   "execution_count": 3,
   "metadata": {},
   "outputs": [
    {
     "name": "stdout",
     "output_type": "stream",
     "text": [
      "XXX\n",
      "XXX\n",
      "XXX\n"
     ]
    }
   ],
   "source": [
    "from IPython.display import clear_output\n",
    "#import time\n",
    "display(test_board)\n",
    "#time.sleep(3)\n",
    "clear_output()\n",
    "display(test_board)\n"
   ]
  },
  {
   "cell_type": "code",
   "execution_count": 4,
   "metadata": {},
   "outputs": [
    {
     "name": "stdout",
     "output_type": "stream",
     "text": [
      "X\n"
     ]
    }
   ],
   "source": [
    "marker = \"\"\n",
    "while not(marker == 'X' or marker == 'O'):\n",
    "    marker = input(\"Player 1: Do you want to be X or O\").upper()\n",
    "    print(marker)"
   ]
  },
  {
   "cell_type": "code",
   "execution_count": 5,
   "metadata": {},
   "outputs": [
    {
     "name": "stdout",
     "output_type": "stream",
     "text": [
      "2\n"
     ]
    }
   ],
   "source": [
    "import random\n",
    "print(random.randint(1,8))"
   ]
  },
  {
   "cell_type": "code",
   "execution_count": 19,
   "metadata": {},
   "outputs": [],
   "source": [
    "#1 - Create Display board\n",
    "from IPython.display import clear_output\n",
    "\n",
    "def display(test_board):\n",
    "    clear_output()\n",
    "    print(test_board[7] + \"|\" + test_board[8] + \"|\" + test_board[9])\n",
    "    print(test_board[4] + \"|\" + test_board[5] + \"|\" + test_board[6])\n",
    "    print(test_board[1] + \"|\" + test_board[2] + \"|\" + test_board[3])"
   ]
  },
  {
   "cell_type": "code",
   "execution_count": 29,
   "metadata": {},
   "outputs": [
    {
     "name": "stdout",
     "output_type": "stream",
     "text": [
      "Hello World!\n",
      "Hello World! 2.2\n"
     ]
    }
   ],
   "source": [
    "\n",
    "from os import system\n",
    "from time import sleep\n",
    "\n",
    "print(\"Hello World!\")\n",
    "sleep(2)\n",
    "system('cls')\n",
    "print(\"Hello World! 2.2\")\n",
    "\n"
   ]
  },
  {
   "cell_type": "code",
   "execution_count": 7,
   "metadata": {},
   "outputs": [],
   "source": [
    "#2 - Take input from user if they want to be '0' or 'X'\n",
    "def player_input():\n",
    "    marker = \"\"\n",
    "    while not(marker == 'X' or marker == 'O'):\n",
    "        marker = input(\"Player 1: Do you want to be X or O\").upper()\n",
    "    \n",
    "    if marker == 'X':\n",
    "        return('X','O')\n",
    "    else:\n",
    "        return('O','X')"
   ]
  },
  {
   "cell_type": "code",
   "execution_count": 8,
   "metadata": {},
   "outputs": [
    {
     "name": "stdout",
     "output_type": "stream",
     "text": [
      "X\n",
      "O\n"
     ]
    }
   ],
   "source": [
    "player1_marker,player2_marker = player_input()\n",
    "print(player1_marker)\n",
    "print(player2_marker)"
   ]
  },
  {
   "cell_type": "code",
   "execution_count": 9,
   "metadata": {},
   "outputs": [],
   "source": [
    "#3 - fill the user value on board\n",
    "def place_marker(board,marker,position):\n",
    "    board[position] = marker"
   ]
  },
  {
   "cell_type": "code",
   "execution_count": 10,
   "metadata": {},
   "outputs": [
    {
     "name": "stdout",
     "output_type": "stream",
     "text": [
      "G|H|I\n",
      "p|E|F\n",
      "A|B|C\n"
     ]
    }
   ],
   "source": [
    "test_board = [\"\",\"A\",\"B\",\"C\",\"D\",\"E\",\"F\",\"G\",\"H\",\"I\"]\n",
    "place_marker(test_board,'p',4)\n",
    "display(test_board)"
   ]
  },
  {
   "cell_type": "code",
   "execution_count": 11,
   "metadata": {},
   "outputs": [],
   "source": [
    "#4 - winning goal\n",
    "def win_check(board,mark):\n",
    "    return( (board[7] == mark and board[8] == mark and board[9] == mark) or  # across the top\n",
    "            (board[4] == mark and board[5] == mark and board[6] == mark) or  # across the middle\n",
    "            (board[1] == mark and board[2] == mark and board[3] == mark) or  # across the bottom\n",
    "            (board[7] == mark and board[4] == mark and board[1] == mark) or  # down the left \n",
    "            (board[8] == mark and board[5] == mark and board[2] == mark) or  # down the middle\n",
    "            (board[9] == mark and board[6] == mark and board[3] == mark) or  # down the right \n",
    "            (board[7] == mark and board[5] == mark and board[3] == mark) or  # 2 diagnols\n",
    "            (board[9] == mark and board[5] == mark and board[1] == mark) )"
   ]
  },
  {
   "cell_type": "code",
   "execution_count": 24,
   "metadata": {},
   "outputs": [
    {
     "data": {
      "text/plain": [
       "False"
      ]
     },
     "execution_count": 24,
     "metadata": {},
     "output_type": "execute_result"
    }
   ],
   "source": [
    "#5 - If board is empty\n",
    "def space_check(board,position):\n",
    "    return board[position] == \" \"\n",
    "def full_board_check(board):                #7 - If board is already full\n",
    "    empty_space = int(0)\n",
    "    for i in range(1,10):\n",
    "        if space_check(board,i):\n",
    "            empty_space += 1\n",
    "        #print(i)\n",
    "        #print(empty_space)\n",
    "\n",
    "    if empty_space == 0:\n",
    "        return True\n",
    "    else:\n",
    "        return False\n",
    "\n",
    "test_board = [\"c\"]*10\n",
    "test_board[1] = \"l\"\n",
    "test_board[4] = \"x\"\n",
    "test_board[5] = \" \"\n",
    "test_board[8] = \"o\"\n",
    "full_board_check(test_board)\n",
    "#display(test_board)"
   ]
  },
  {
   "cell_type": "code",
   "execution_count": 26,
   "metadata": {},
   "outputs": [
    {
     "name": "stdout",
     "output_type": "stream",
     "text": [
      "+---------------+\n",
      "|               |\n",
      "|     c|c|c     |\n",
      "|     c|c|c     |\n",
      "|     c|c|c     |\n",
      "|               |\n",
      "+---------------+\n"
     ]
    }
   ],
   "source": [
    "def display2(board):                    #1 - Create Display board\n",
    "    clear_output()\n",
    "    print('+---------------+')\n",
    "    print('|               |')\n",
    "    print(\"|     \" + board[7] + \"|\" + board[8] + \"|\" + board[9] + \"     |\")\n",
    "    print(\"|     \" + board[4] + \"|\" + board[5] + \"|\" + board[6] + \"     |\")\n",
    "    print(\"|     \" + board[1] + \"|\" + board[2] + \"|\" + board[3] + \"     |\")\n",
    "    print('|               |')\n",
    "    print('+---------------+')\n",
    "test_board = [\"c\"]*10\n",
    "display2(test_board)"
   ]
  },
  {
   "cell_type": "code",
   "execution_count": 14,
   "metadata": {},
   "outputs": [],
   "source": [
    "#6 - Decide whose turn in first\n",
    "import random\n",
    "def choose_first():\n",
    "    if random.randint(0,1) == 0:\n",
    "        return 'Player 2'\n",
    "    else:\n",
    "        return 'Player 1'"
   ]
  },
  {
   "cell_type": "code",
   "execution_count": 15,
   "metadata": {},
   "outputs": [],
   "source": [
    "#7 - If board is already full\n",
    "def full_board_check(board):\n",
    "    for i in range(1,10):\n",
    "        if space_check(board,i):\n",
    "            return False\n",
    "        return True"
   ]
  },
  {
   "cell_type": "code",
   "execution_count": 16,
   "metadata": {},
   "outputs": [],
   "source": [
    "#8 - Take the input from user\n",
    "def player_choice(board):\n",
    "    position = 0\n",
    "    while position not in [1,2,3,4,5,6,7,8,9] or not space_check(board,position) :\n",
    "        position =  int(input(\"Please Enter position (1-9)\"))\n",
    "    \n",
    "    return position"
   ]
  },
  {
   "cell_type": "code",
   "execution_count": 17,
   "metadata": {},
   "outputs": [],
   "source": [
    "#9 - if user wants to play it again\n",
    "def replay():\n",
    "    return input(\"You want to play again (yes , no)\").lower().startswith('y')"
   ]
  },
  {
   "cell_type": "code",
   "execution_count": 23,
   "metadata": {},
   "outputs": [
    {
     "name": "stdout",
     "output_type": "stream",
     "text": [
      "X|X|X\n",
      " | |X\n",
      "X|X| \n",
      "Congratulation! you have won the game\n"
     ]
    }
   ],
   "source": [
    "#10- Compile all\n",
    "print('Welcome to Tac Toc')\n",
    "while True:\n",
    "    theBoard = [' ']*10\n",
    "    player1_marker,player2_marker = player_input()\n",
    "    #print(player1_marker)\n",
    "    #print(player2_marker)\n",
    "    #print(4444)\n",
    "    turn = choose_first()\n",
    "    #print(turn + ' will go first')\n",
    "\n",
    "    play_game = input(\"You want to play again (yes/no)\")\n",
    "\n",
    "    if play_game.lower()[0] == 'y':\n",
    "        game_on = True\n",
    "    else:\n",
    "        game_on = False\n",
    "    \n",
    "    while game_on:\n",
    "        if turn == 'Player 1':\n",
    "            display(theBoard)\n",
    "            print('Player 1 turn')\n",
    "            position = player_choice(theBoard)\n",
    "            place_marker(theBoard,player1_marker,position)\n",
    "            \n",
    "            if win_check(theBoard,player1_marker):\n",
    "                display(theBoard)\n",
    "                print('Congratulation! you have won the game')\n",
    "                game_on = False\n",
    "            else:\n",
    "                if full_board_check(theBoard):\n",
    "                    display(theBoard)\n",
    "                    print('the game is a draw!!')\n",
    "                else:\n",
    "                    turn = 'Player 2'\n",
    "        else:\n",
    "            display(theBoard)\n",
    "            print('Player 2 turn')\n",
    "            position = player_choice(theBoard)\n",
    "            place_marker(theBoard,player2_marker,position)\n",
    "            \n",
    "            if win_check(theBoard,player2_marker):\n",
    "                display(theBoard)\n",
    "                print('Congratulation! you have won the game')\n",
    "                game_on = False\n",
    "            else:\n",
    "                if full_board_check(theBoard):\n",
    "                    display(theBoard)\n",
    "                    print('the game is a draw!!')\n",
    "                else:\n",
    "                    turn = 'Player 1'\n",
    "    if not replay():\n",
    "        break"
   ]
  },
  {
   "cell_type": "code",
   "execution_count": null,
   "metadata": {},
   "outputs": [],
   "source": []
  }
 ],
 "metadata": {
  "interpreter": {
   "hash": "c19137276d120e4d4559be68f9baba9ae987aa65c847816247f7d211244a6826"
  },
  "kernelspec": {
   "display_name": "Python 3.9.2 64-bit",
   "language": "python",
   "name": "python3"
  },
  "language_info": {
   "codemirror_mode": {
    "name": "ipython",
    "version": 3
   },
   "file_extension": ".py",
   "mimetype": "text/x-python",
   "name": "python",
   "nbconvert_exporter": "python",
   "pygments_lexer": "ipython3",
   "version": "3.9.2"
  }
 },
 "nbformat": 4,
 "nbformat_minor": 4
}
